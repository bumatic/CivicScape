{
 "cells": [
  {
   "cell_type": "code",
   "execution_count": 209,
   "metadata": {
    "collapsed": false
   },
   "outputs": [],
   "source": [
    "import pandas as pd\n",
    "import os\n",
    "import numpy as np\n",
    "import sklearn as sk\n",
    "from sklearn import metrics\n",
    "import matplotlib.pyplot as plt\n",
    "import itertools\n",
    "import notebook_support\n",
    "reload(notebook_support)\n",
    "from IPython.display import Image\n",
    "from IPython.core.display import display, HTML\n",
    "import random"
   ]
  },
  {
   "cell_type": "markdown",
   "metadata": {},
   "source": [
    "# Preventing and Diagnosing Bias in CivicScape\n",
    "\n",
    "Increasingly, police departments are trying to harness the power of data and algorithms to increase both the safety of and relationships with the communities they serve. At CivicScape, we are committed to both aspects of law enforcement’s fundamental mission. That means we're not only concerned about the general accuracy of our tool; we're also concerned with issues of bias in data and algorithms. Unfortunately, crime data comes from humans collecting data about human actions, and so like many other data sources, it is subject to human error. That is why the quality of the our tool is unparalleled: CivicScape is built with a primary focus on using only the most reliable data and includes multiple safeguards to enforce that standard. This doesn't mean that law enforcement and communities can't use crime data to anticipate crime, but it does mean we must understand and measure bias in crime data that can result in disparate public safety outcomes within a community. \n",
    "\n",
    "We believe that the CivicScape tool is an important advancement in the ability to deploy officers effectively for police departments who in need of ways to do more with fewer resources, just as we believe that measuring how risk assessments impact different community stakeholders is an ongoing and necessary responsibility in implementing this tool. By making our code and data open-source, we are inviting feedback and conversation about CivicScape in the belief that many eyes make our tools better for all. Our motto, Safety in Numbers, is not just about the potential benefit to public safety that CivicScape represents in its numerical risk scores, but also the additional safety from openness and transparency around the tool's risk scores. \n",
    "\n",
    "Conversations about transparency and accountability in law enforcement and algorithms alike are vital conversations that we want to forward. Here are the questions that we’re trying to answer and keep learning about in this notebook: \n",
    "* What is bias in data and why does it matter? \n",
    "* Why is there bias in crime data? \n",
    "* What kinds of crime data have bias? \n",
    "* What kinds of crime data does CivicScape use in models and why? \n",
    "* What can we do to prevent bias in crime risk assessment? \n",
    "\n",
    "Lots of research is going on about how algorithms can be transparent, accountable, and fair. We look forward to being involved in this important conversation. \n",
    "\n",
    "## What is bias in data and why does it matter? \n",
    "\n",
    "Bias in data is systematic difference between truth and what is captured by data. Bias is a huge concern for those who use data to draw conclusions because biased data will, on average, result in the wrong conclusion (Cochrane Review). Because we can’t take a true measure of crime, we are left to make decisions with imperfect, potentially biased alternatives. As such, any analyses -- from plotted points on a map to a sophisticated machine learning system --  that use crime data in the form of arrests, reports, or surveys will produce biased estimates (Pepper, Petrie, and Sullivan, 2010). \n",
    "\n",
    "While biased estimates are not exclusive to crime data, there are particular challenges unique to crime data that have impeded a full understanding of and quantification of these biases.  For instance, national crime statistics are by nature aggregations of local crime statistics. To the extent that local crime data are biased, national crime statistics assume this bias as well. The more complex issue with national aggregations is that the magnitude and direction of this bias is not known and is not stable over time in some sources (See Pepper, Petrie, Sullivan, 2010; Maltz, 2006; Maltz and Targonoski 2002, 2003; Jarvis and Lynch 2008 among others).\n",
    "\n",
    "An especially concerning impact of bias in data is that its use in algorithms could exacerbate disparities, a primary concern given the significant racial and ethnic disparity in the rates of arrest, conviction and incarceration in the criminal justice system (Tonry and Milewski, 2008; Lum and Isaac, 2016). There is also disagreement about and continuing research on how best to measure racial and ethnic discrimination (Blank, Dabady, & Citro, 2004). One approach to measuring it is to determine if the impact of a recommendation or policy is different for different subsets of stakeholders, known as disparate impact measurement. There is not, however, a consensus about the right baseline against which to measure racial discrimination. \n",
    "\n",
    "### Why is there bias in crime data? \n",
    "\n",
    "In application to crime data, bias is driven by the systematic over- or under-reporting of crime data that can result from the data source and from those who record it. Data bias results from the complex actions, characteristics, and relationships of communities and law enforcement. Consider a typical police jurisdiction and the many factors that could drive bias in crime data. Police might patrol more in high-crime communities which can increase arrests in those communities. At the same time, communities experiencing high crime might draw additional police presence. Add to this that some communities may make disproportionately high calls for service, but other communities are less likely to do so. Further, the interactions between police and community can contribute to bias in crime data, where poor police-community relations can cause individuals to mistrust and not cooperate with police, or for police to act defensively if they feel unsafe or unwanted in a community. \n",
    "\n",
    "Different ways of measuring crime are subject to different levels of bias. Crime data that is least biased is the data closest to the crime event, such as incident reports. Whereas data such as convictions, and to a lesser extent arrests or calls for service, are one or more steps removed from the crime event. For example, while African Americans comprise 13% percent of the population, they represent 28% of total arrests but 38% felony convictions in state courts (Nellis and King, 2009). Similarly, Latinos comprise 15% of the population, but 22.3% of those in state prison. Surveys of crime victims and of police contact are also useful comparisons to address the opposite issue- under-reporting of crime.\n",
    "\n",
    "### What kinds of crime are biased? \n",
    "\n",
    "Some estimates about to what extent crime data is under-reported originate from comparing surveys of crime victims to crimes reported to police. Nationally, the percentage of violent and serious violent victimizations reported to police has been stable over the past two decades. In 1993, 42% of violent victimization was reported to police and in 2015, it was 47%. Similarly for serious violent victimization, in 1993, 51% was reported and in and 2015, 55% was reported to police. Reporting of property crime has increased from 1993 (32%) to 2015 (35%).\n",
    "\n",
    "Specifically in 2015, comparing victimization and arrest reports show: \n",
    "\n",
    "* Robberies - 62% reported to police in 2015 nationally\n",
    "* Aggravated assaults - 62% reported to police in 2015 nationally \n",
    "* Simple assaults - 42% reported to police in 2015 nationally\n",
    "* Sexual assaults - 32% reported to police in 2015 nationally\n",
    "* Domestic violence - 58% reported to police in 2015 nationally\n",
    "\n",
    "Comparing property crime victimization to arrests reports, nationally, property crime went unreported to police in 65% of cases in 2015. Specifically, comparing victimization and arrest reports show: \n",
    "\n",
    "* Motor vehicle theft - 69% reported to police in 2015 nationally.\n",
    "* Burglary - 50% reported to police in 2015 nationally\n",
    "* Theft - 29% reported to police in 2015 nationally\n",
    "\n",
    "Minor marijuana possession cases are one of the most biased in terms of the discrepancy between the population who uses and is arrested for using drugs. The American Civil Liberties Union (ACLU) finds that marijuana use is roughly equal among African Americans and whites, yet African Americans are 3.73 times as likely to be arrested for marijuana possession. Overall data on drug use has shown that it is relatively representative of the general population, but it is more likely that drug sellers will face arrest and prison. There are no reliable surveys of drug selling, but given that people are most likely to buy drugs from someone of their same race, most researchers think that selling should be proportionate as well (Sentencing Project; Tonry et al). \n",
    "\n",
    "## What kind of crime data does CivicScape use? And why?\n",
    "\n",
    "Because of the realities of crime data, **CivicScape limits the kinds of crime that are used in our models.** First, CivicScape uses types of crime data that are closest to an event and least likely to be under-reported.  These include: arrests, incidents, and calls for service. CivicScape doesn’t use data concerning prosecution outcomes, conviction outcomes, and incarceration outcomes are because they are not timely enough to make many resource allocation decisions and importantly because the further from a crime event a data point is collected, the more biased the data becomes.\n",
    "\n",
    "Second, **CivicScape is focused on violent crime and property crime without the inclusion of low-level misdemeanor events.** Rather than focus on narcotics-related, or other lower-level crimes that we know are under-reported to a large degree, CivicScape focuses on crime data that is less likely to be under-reported. For violent crime, this means excluding simple assaults in favor of aggravated assaults and homicide. For property crime, this means excluding simple theft. This limits our dataset considerably and is determined for each city based on their reporting practices.\n",
    "\n",
    "Further, **CivicScape doesn’t consider race or ethnicity of individuals in our tool.** This is not to say that we aren’t using variables that might be closely correlated with race and ethnicity. We use weather and historical violent crime data to run our risk scores. We do include a geographic component, a cell area. While this does not contain race or income information directly - intentionally- we acknowledge that in some cases, location of a crime event can include information that is indirectly related to race, ethnicity and income. \n",
    "\n",
    "### When can we use crime data to accurately and precisely make decisions about law enforcement resources? \n",
    "\n",
    "On a daily basis, communities, police departments, prosecutors, public defenders, residents, victims and families are already making decisions about crime with imperfect information. Though we’ve seen evidence that algorithms can only make disparate outcomes worse, even as we continue to learn about algorithmic fairness, algorithms have the potential to increase transparency in data and  the law enforcement component of the criminal justice system. \n",
    "\n",
    "At CivicScape, we’re focused on enhancing community safety and community trust by focusing on the following to use crime data to make accurate assessments about crime risk:\n",
    "\n",
    "* We can use the least biased crime data based on what we know about magnitude and direction of bias. That is, no narcotics or misdemeanor crime data is used to assess crime risk in our models. \n",
    "* CivicScape currently refreshes all models with new data as often as daily. It is crucial to do this in order to avoid sending police to parts of a jurisdiction based on outdated crime data and to preserve the accuracy and precision of the model.  \n",
    "* CivicScape opens and makes transparent all algorithm code, and we make model evaluations available whenever possible based on our jurisdiction partners.\n",
    "* CivicScape makes data audit reports available whenever possible based on our jurisdiction partners. \n",
    "* We measure models for bias in place-based outcomes to understand how the CivicScape algorithm impacts different subsets of individuals differently. In our next section, we walk through how we approach this at CivicScape. \n",
    "\n",
    "**We next walk through and provide code to measure risk scores for racial and ethnic minority disparate impact.**\n"
   ]
  },
  {
   "cell_type": "markdown",
   "metadata": {},
   "source": [
    "## Evaluating Bias in CivicScape vs. CompSTAT \n",
    "\n",
    "In order to evaluate how the CivicScape model performs in racial and ethnic minority communities, we need an appropriate comparison to understand how CivicScape models impact police deployment. While no perfect comparison exists, we can compare CivicScape models to those that we know police regularly implement, such as CompSTAT. Discussed further in our Police Practices Notebook, CompSTAT is a commonly-used police deployment tool that uses prior crime to determine how they deploy. By replicating the code below with your own data, you will be able to run the same disparate impact exercises CivicScape uses internally.\n",
    "\n",
    "**To Begin:** In the following module, edit the file paths to link to your own data.\n"
   ]
  },
  {
   "cell_type": "code",
   "execution_count": 210,
   "metadata": {
    "collapsed": true
   },
   "outputs": [],
   "source": [
    "# Use the following string to tell this notebook where the risk scores are located\n",
    "riskscore_path = \"../data/risk_assessments.csv\"\n",
    "# Use the following strings to tell this notebook where your census data are\n",
    "census_econ_path = \"../data/2000_census_econ_data.csv\"\n",
    "census_race_path = \"../data/2000_census_race_data.csv\"\n",
    "# Use the following string to tell this notebook where the historic crime data are located\n",
    "compstat_path = \"../data/historical_grouped_3_year.csv\""
   ]
  },
  {
   "cell_type": "markdown",
   "metadata": {},
   "source": [
    "If you'd like to constrict the times of the CivicScape or CompSTAT models, do so below: "
   ]
  },
  {
   "cell_type": "code",
   "execution_count": 211,
   "metadata": {
    "collapsed": true
   },
   "outputs": [],
   "source": [
    "hours = (0, 5) # Enter the hour range to include on a 24-hour clock, e.g. (3, 15) returns 3AM-3PM\n",
    "days = [] # Enter each day to include as a letter i.e. ['M', 'T', 'W', 'R', 'F', 'Sa', 'Su']\n",
    "date_range = () # Enter the dates as YYYY-MM-DD, e.g. ('2014-10-24', '2015-05-28')"
   ]
  },
  {
   "cell_type": "markdown",
   "metadata": {},
   "source": [
    "Then, run the following modules:"
   ]
  },
  {
   "cell_type": "code",
   "execution_count": 212,
   "metadata": {
    "collapsed": false
   },
   "outputs": [
    {
     "name": "stdout",
     "output_type": "stream",
     "text": [
      "\n",
      "Data prep done!\n",
      "This file contains risk_assessments for the test date range 2014-10-24 00:00:00 through 2015-05-28 00:00:00.\n",
      "\n",
      "Looks like your historical dataset doesn't have days, so we'll look at months instead.\n",
      "\n",
      "The period from 2014-10-01 00:00:00 to 2014-10-24 00:00:00 will be left off the dataset because data are missing.\n",
      "\n",
      "The period from 2015-05-28 00:00:00 to 2015-09-01 00:00:00 will be left off the dataset because data are missing.\n",
      "\n",
      "The final overlapping period for analysis is: 2014-10-24 00:00:00 through 2015-05-28 00:00:00\n",
      "\n",
      "You've restricted the risk score data for the following hours:\n",
      "    0:00 until 5:00\n"
     ]
    }
   ],
   "source": [
    "riskscores = pd.read_csv(riskscore_path)\n",
    "historical = pd.read_csv(compstat_path)\n",
    "census = notebook_support.get_census_data(census_econ_path, census_race_path, race_keep=2000)\n",
    "risk, hist = notebook_support.data_prep(riskscores, historical)\n",
    "risk_keep, risk, hist = notebook_support.historical_prep(risk, hist)\n",
    "\n",
    "\n",
    "final_risk = risk.merge(census, left_on='census_tra', right_on='geo_id')\n",
    "final_risk = notebook_support.constrict_times(final_risk, hours=hours, days=days, date_range=date_range)\n",
    "final_compstat = hist.merge(census, left_on='census_tra', right_on='geo_id')\n",
    "final_compstat = notebook_support.bias_police_deployment_analysis(final_compstat, assumptions)\n",
    "\n",
    "\n",
    "#final_compstat = notebook_support.constrict_times(final_compstat, hours=hours, days=days, date_range=date_range)"
   ]
  },
  {
   "cell_type": "markdown",
   "metadata": {
    "collapsed": false
   },
   "source": [
    "First, we break out the census tracts into quintiles based on race and ethnicity. For race and ethnicity, we take the top two quintiles of census tracts for that racial or ethnic group as predominantly composed of that race or ethnic group. For income, we take the top quintile and the bottom quintile as high income and low income, respectively."
   ]
  },
  {
   "cell_type": "code",
   "execution_count": 213,
   "metadata": {
    "collapsed": false
   },
   "outputs": [],
   "source": [
    "#hist_merged, risk_merged, ranks = notebook_support.get_paper_comparisons(risk_keep, riskscores, final_compstat, show=False)\n",
    "#average_risk, hist_merged = notebook_support.bias_police_deployment_analysis(hist_merged, risk_merged, assumptions)\n",
    "#\n",
    "#final_compstat = average_risk"
   ]
  },
  {
   "cell_type": "code",
   "execution_count": 214,
   "metadata": {
    "collapsed": false,
    "scrolled": false
   },
   "outputs": [],
   "source": [
    "## CivicScape\n",
    "top_black = final_risk[final_risk.black_per_q >= 4]\n",
    "top_white = final_risk[final_risk.white_per_q >= 4]\n",
    "top_hisp = final_risk[final_risk.hisp_per_q >= 4]\n",
    "bottom_income = final_risk[final_risk.income_quintile <= 1]\n",
    "top_income = final_risk[final_risk.income_quintile >= 5]\n"
   ]
  },
  {
   "cell_type": "code",
   "execution_count": 215,
   "metadata": {
    "collapsed": false
   },
   "outputs": [],
   "source": [
    "## CompSTAT\n",
    "top_black_compstat = final_compstat[final_compstat.black_per_q >= 4]\n",
    "top_white_compstat = final_compstat[final_compstat.white_per_q >= 4]\n",
    "top_hisp_compstat = final_compstat[final_compstat.hisp_per_q >= 4]\n",
    "bottom_income_compstat = final_compstat[final_compstat.income_quintile <= 1]\n",
    "top_income_compstat = final_compstat[final_compstat.income_quintile >= 5]\n"
   ]
  },
  {
   "cell_type": "markdown",
   "metadata": {},
   "source": [
    "Much like in the Model Data Practices notebook, we have to set a threshold for CivicScape. You can set the threshold to any value that seems reasonable to you; however, we also provide the optimal threshold below."
   ]
  },
  {
   "cell_type": "code",
   "execution_count": 216,
   "metadata": {
    "collapsed": false
   },
   "outputs": [
    {
     "name": "stdout",
     "output_type": "stream",
     "text": [
      "\n",
      "The optimal threshold for your data is: 0.2.\n",
      "\n"
     ]
    }
   ],
   "source": [
    "fpr, tpr, thresholds = metrics.roc_curve(final_risk.crime_count, final_risk.risk_assessment, pos_label=1)\n",
    "notebook_support.optimal_threshold(thresholds, fpr, tpr)"
   ]
  },
  {
   "cell_type": "code",
   "execution_count": 217,
   "metadata": {
    "collapsed": false
   },
   "outputs": [],
   "source": [
    "threshold_CivicScape = 0.2\n",
    "threshold_CompSTAT = 0.2\n",
    "assumptions = notebook_support.bias_build_assumptions_dict(threshold_CivicScape, threshold_CompSTAT)\n"
   ]
  },
  {
   "cell_type": "markdown",
   "metadata": {},
   "source": [
    "Now, a quick reminder on definitions: \n",
    "\n",
    "- **Accuracy**: percent of the time that the model correctly anticipates whether a crime occurs.\n",
    "- **True Postitive Rate**: when a crime does happen, the percent of the time the model correctly anticipates it.\n",
    "- **True Negative Rate**: when a crime doesn't happen, percent of the time the model correctly anticipates none happen.\n",
    "- **False Positive Rate**: when a crime doesn't happen, precent of the time the model antipates one would.\n",
    "- **False Negative Rate**: when a crime does happen, percent of the time the model misses it. \n",
    "\n",
    "<img src=\"visuals/confusion_matrix.png\" height=\"300\" width=\"300\" align=\"left\">  "
   ]
  },
  {
   "cell_type": "markdown",
   "metadata": {},
   "source": [
    "For reference, here is the confusion matrix for CivicScape and CompSTAT models across the entire jurisdiction first before we examine subsets:"
   ]
  },
  {
   "cell_type": "code",
   "execution_count": null,
   "metadata": {
    "collapsed": true
   },
   "outputs": [],
   "source": [
    "notebook_support.confusion_matrix(final_risk, threshold=threshold_CivicScape, title='All Census Tracts - CivicScape')\n",
    "notebook_support.confusion_matrix(hist_merged, threshold=threshold_CompSTAT, title='All Census Tracts - CompSTAT')"
   ]
  },
  {
   "cell_type": "markdown",
   "metadata": {},
   "source": [
    "Here is a side-by-side comparison for each racial neighborhood type, first for CompSTAT and next for CivicScape: "
   ]
  },
  {
   "cell_type": "code",
   "execution_count": 219,
   "metadata": {
    "collapsed": false
   },
   "outputs": [],
   "source": [
    "## CivicScape \n",
    "\n",
    "black_fp = 'visuals/black_neighborhoods_{}.png'.format(random.randint(0, 100))\n",
    "white_fp = 'visuals/white_neighborhoods_{}.png'.format(random.randint(0, 100))\n",
    "hisp_fp = 'visuals/hisp_neighborhoods_{}.png'.format(random.randint(0, 100))\n",
    "low_fp = 'visuals/lowincome_neighborhoods_{}.png'.format(random.randint(0, 100))\n",
    "high_fp = 'visuals/highincome_neighborhoods_{}.png'.format(random.randint(0, 100))\n",
    "notebook_support.confusion_matrix(top_black, threshold=threshold_CivicScape, output=black_fp, title='Black Top Two Quartile Neighborhoods - CivicScape')\n",
    "notebook_support.confusion_matrix(top_white, threshold=threshold_CivicScape, output=white_fp, title='White Top Two Quartile Neighborhoods - CivicScape')\n",
    "notebook_support.confusion_matrix(top_hisp, threshold=threshold_CivicScape, output=hisp_fp, title='Hispanic Top Two Quartile Neighborhoods - CivicScape')\n",
    "notebook_support.confusion_matrix(bottom_income, threshold=threshold_CivicScape, output=low_fp, title='Income Bottom Two Quintile Neighborhoods - CivicScape')\n",
    "notebook_support.confusion_matrix(top_income, threshold=threshold_CivicScape, output=high_fp, title='Income Top Two Quintile Neighborhoods - CivicScape')\n"
   ]
  },
  {
   "cell_type": "code",
   "execution_count": 220,
   "metadata": {
    "collapsed": false
   },
   "outputs": [],
   "source": [
    "## CompSTAT \n",
    "\n",
    "black_fp_compstat = 'visuals/black_neighborhoods_{}.png'.format(random.randint(0, 100))\n",
    "white_fp_compstat = 'visuals/white_neighborhoods_{}.png'.format(random.randint(0, 100))\n",
    "hisp_fp_compstat = 'visuals/hisp_neighborhoods_{}.png'.format(random.randint(0, 100))\n",
    "low_fp_compstat = 'visuals/lowincome_neighborhoods_{}.png'.format(random.randint(0, 100))\n",
    "high_fp_compstat = 'visuals/highincome_neighborhoods_{}.png'.format(random.randint(0, 100))\n",
    "notebook_support.confusion_matrix(top_black_compstat, threshold=threshold_CompSTAT, output=black_fp, title='Black Top Two Quartile Neighborhoods - COMPSTAT')\n",
    "notebook_support.confusion_matrix(top_white_compstat, threshold=threshold_CompSTAT, output=white_fp, title='White Top Two Quartile Neighborhoods - COMPSTAT')\n",
    "notebook_support.confusion_matrix(top_hisp_compstat, threshold=threshold_CompSTAT, output=hisp_fp, title='Hispanic Top Two Quartile Neighborhoods - COMPSTAT')\n",
    "notebook_support.confusion_matrix(bottom_income_compstat, threshold=threshold_CompSTAT, output=low_fp, title='Income Bottom Two Quintile Neighborhoods - COMPSTAT')\n",
    "notebook_support.confusion_matrix(top_income_compstat, threshold=threshold_CompSTAT, output=high_fp, title='Income Top Two Quintile Neighborhoods - COMPSTAT')\n",
    "\n"
   ]
  },
  {
   "cell_type": "code",
   "execution_count": null,
   "metadata": {
    "collapsed": true
   },
   "outputs": [],
   "source": [
    "display(HTML('<img src={} height=\"400\" width=\"320\" style=\"float: left; margin-left: 2px; margin-bottom: 5px; margin-right: 2px; margin-top: 5px\"> <img src={} height=\"400\" width=\"320\" style=\"float: left; margin-left: 2px; margin-bottom: 5px; margin-right: 2px; margin-top: 5px\"> <img src={} height=\"400\" width=\"320\" style=\"float: left; margin-left: 2px; margin-bottom: 5px; margin-right: 2px; margin-top: 5px\">'.format(white_fp_compstat, black_fp_compstat, hisp_fp_compstat)))\n",
    "display(HTML('<img src={} height=\"400\" width=\"320\" style=\"float: left; margin-left: 2px; margin-bottom: 5px; margin-right: 2px; margin-top: 5px\"> <img src={} height=\"400\" width=\"320\" style=\"float: left; margin-left: 2px; margin-bottom: 5px; margin-right: 2px; margin-top: 5px\"> <img src={} height=\"400\" width=\"320\" style=\"float: left; margin-left: 2px; margin-bottom: 5px; margin-right: 2px; margin-top: 5px\">'.format(white_fp, black_fp, hisp_fp)))"
   ]
  },
  {
   "cell_type": "markdown",
   "metadata": {},
   "source": [
    "And for the lowest income vs. highest income neighborhoods:"
   ]
  },
  {
   "cell_type": "code",
   "execution_count": null,
   "metadata": {
    "collapsed": true
   },
   "outputs": [],
   "source": [
    "display(HTML('<img src={} height=\"400\" width=\"320\" style=\"float: left; margin-left: 2px; margin-bottom: 5px; margin-right: 2px; margin-top: 5px\"><img src={} height=\"400\" width=\"320\" style=\"float: left; margin-left: 2px; margin-bottom: 5px; margin-right: 2px; margin-top: 5px\">'.format(low_fp_compstat, high_fp_compstat)))\n",
    "display(HTML('<img src={} height=\"400\" width=\"320\" style=\"float: left; margin-left: 2px; margin-bottom: 5px; margin-right: 2px; margin-top: 5px\"><img src={} height=\"400\" width=\"320\" style=\"float: left; margin-left: 2px; margin-bottom: 5px; margin-right: 2px; margin-top: 5px\">'.format(low_fp, high_fp)))"
   ]
  },
  {
   "cell_type": "markdown",
   "metadata": {},
   "source": [
    "And here are all those statistics in a table for easy comparison:"
   ]
  },
  {
   "cell_type": "code",
   "execution_count": null,
   "metadata": {
    "collapsed": true
   },
   "outputs": [],
   "source": [
    "## CivicScape\n",
    "full = notebook_support.metrics_table(final_risk, 'Full Model')\n",
    "black = notebook_support.metrics_table(top_black, 'Top Black Tracts')\n",
    "white = notebook_support.metrics_table(top_white, 'Top White Tracts')\n",
    "hisp = notebook_support.metrics_table(top_hisp, 'Top Hispanic Tracts')\n",
    "low = notebook_support.metrics_table(bottom_income, 'Lowest Income Tracts')\n",
    "high = notebook_support.metrics_table(top_income, 'Top Income Tracts')\n",
    "all_metrics = pd.concat([full, black, white, hisp, low, high], axis=0)\n",
    "all_metrics"
   ]
  },
  {
   "cell_type": "code",
   "execution_count": null,
   "metadata": {
    "collapsed": true
   },
   "outputs": [],
   "source": [
    "## Compstat\n",
    "full_compstat = notebook_support.metrics_table(final_compstat, 'Full Model')\n",
    "black_compstat = notebook_support.metrics_table(top_black_compstat, 'Top Black Tracts')\n",
    "white_compstat = notebook_support.metrics_table(top_white_compstat, 'Top White Tracts')\n",
    "hisp_compstat = notebook_support.metrics_table(top_hisp_compstat, 'Top Hispanic Tracts')\n",
    "low_compstat = notebook_support.metrics_table(bottom_income_compstat, 'Lowest Income Tracts')\n",
    "high_compstat = notebook_support.metrics_table(top_income_compstat, 'Top Income Tracts')\n",
    "all_metrics_compstat = pd.concat([full_compstat, black_compstat, white_compstat, hisp_compstat, low_compstat, high_compstat], axis=0)\n",
    "all_metrics_compstat\n"
   ]
  },
  {
   "cell_type": "markdown",
   "metadata": {},
   "source": [
    "## Bias in Data and Algorithms: how can we continue to become more transparent, effective and efficient?\n",
    "\n",
    "Data and algorithms can drive disparate outcomes but they are also an opportunity for transparency and increased efficiency. By making crime and broader police data available and open, and analyzing it for racial and ethnic differences, it is possible to improve police efficiency. \n",
    "\n",
    "Several initiatives are forwarding this transparency, including: \n",
    "* White House Police Data Initiative - forwarding collaboration between law enforcement and communities to increase transparency in law enforcement data.\n",
    "* The Police Foundation - hosts a listing of departments who release crime data along with information about the release.\n",
    "* National Justice Database Initiative - the Center for Policing Equity has launched a national analysis framework for analyzing bias in police data. The effort, originally conceived of by a major city police chief, is aimed at not only making police data available but analyzing it in a way that is aimed at uncovering the racial and ethnic differences in policing practices. \n",
    "\n",
    "For more background on this conversation, you can access our working paper on the topic as well. \n",
    "\n",
    "\n",
    "### Please check back with us as we continue to add to discussions and new evaluations on transparency, effectiveness and accountability in crime risk assessment.\n",
    "\n"
   ]
  },
  {
   "cell_type": "markdown",
   "metadata": {
    "collapsed": true
   },
   "source": [
    "## References\n",
    "\n",
    "1. \"Women Less Likely to be Shown High Paying Ads for Jobs on Google, Study Shows.\" *The Guardian*. July 2014. https://www.theguardian.com/technology/2015/jul/08/women-less-likely-ads-high-paid-jobs-google-study\n",
    "2. Lum, K. and Isaac, W., 2016. To predict and serve?. Significance, 13: 14–19 \n",
    "3. The War on Marijuana in Black and White. American Civil Liberties Union, 2013. Available: https://www.aclu.org/feature/war-marijuana-black-and-white \n",
    "4. White House Police Data Initiative Fact Sheet. https://www.whitehouse.gov/the-press-office/2016/04/22/fact-sheet-white-house-police-data-initiative-highlights-new-commitments\n",
    "5. Police Foundation data available: https://publicsafetydataportal.org \n",
    "6. https://www.whitehouse.gov/sites/default/files/microsites/ostp/2016_0504_data_discrimination.pdf \n",
    "7. http://policingequity.org/national-justice-database/ \n"
   ]
  }
 ],
 "metadata": {
  "kernelspec": {
   "display_name": "Python 2",
   "language": "python",
   "name": "python2"
  },
  "language_info": {
   "codemirror_mode": {
    "name": "ipython",
    "version": 2
   },
   "file_extension": ".py",
   "mimetype": "text/x-python",
   "name": "python",
   "nbconvert_exporter": "python",
   "pygments_lexer": "ipython2",
   "version": "2.7.10"
  }
 },
 "nbformat": 4,
 "nbformat_minor": 1
}
